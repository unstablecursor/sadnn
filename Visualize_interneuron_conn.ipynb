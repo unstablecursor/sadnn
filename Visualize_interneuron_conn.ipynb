{
 "cells": [
  {
   "cell_type": "code",
   "execution_count": 28,
   "id": "994cd754-7eb2-447a-a3c8-2db7a10b6626",
   "metadata": {},
   "outputs": [],
   "source": [
    "%matplotlib inline\n",
    "import os\n",
    "import cv2\n",
    "import json\n",
    "import math\n",
    "import numpy as np\n",
    "import matplotlib.pyplot as plt\n",
    "import matplotlib.animation as animation\n"
   ]
  },
  {
   "cell_type": "code",
   "execution_count": 47,
   "id": "25b2ee14-37ae-46fc-9a53-a8e918aa98d0",
   "metadata": {},
   "outputs": [
    {
     "data": {
      "image/png": "[encoded data removed]",
      "text/plain": [
       "<Figure size 576x576 with 2 Axes>"
      ]
     },
     "metadata": {
      "needs_background": "light"
     },
     "output_type": "display_data"
    }
   ],
   "source": [
    "TAU = 1  # TODO: I don't know whether this is important\n",
    "\n",
    "SIGMA =5.0 # 0.5\n",
    "INTENSITY =100.0\n",
    "\n",
    "SIGMA_2 = 0.0 # 0.5\n",
    "INTENSITY_2 = 0.0 # \n",
    "SHIFT = 0 # TODO : Check this\n",
    "CUTOFF_DIST = 64 # TODO : Change this\n",
    "X_EYE = 1.0\n",
    "Y_EYE = 1.0\n",
    "NR_OF_PASSES = 1\n",
    "MIN_CLIP = -0.01 # -0.0001\n",
    "DECAY = 0.2\n",
    "K_INHIB = 5.0\n",
    "\n",
    "\n",
    "RES_X = 64\n",
    "activations = []\n",
    "distances = []\n",
    "j = 1000# RES_X * (RES_X/2-1) + RES_X - RES_X/2\n",
    "grid = np.empty((RES_X,RES_X))\n",
    "for i in range(0,RES_X*RES_X):\n",
    "    dist = np.sqrt(\n",
    "            X_EYE * (i // RES_X - j // RES_X) ** 2 + Y_EYE *(i % RES_X - j % RES_X) ** 2\n",
    "        )\n",
    "    if dist > CUTOFF_DIST:\n",
    "        transfer_func = 0\n",
    "    else:\n",
    "        transfer_func_exc = ( ( INTENSITY *\n",
    "                     np.exp(-dist**2 / (SIGMA ** 2))\n",
    "                ) / (math.pi * 2 * (SIGMA ** 2)))\n",
    "        \n",
    "        # transfer_func_inh = ( ( INTENSITY_2 *\n",
    "        #              np.exp(-dist**2 / (SIGMA_2 ** 2))\n",
    "        #         ) / (math.pi * 2 * (SIGMA_2 ** 2)))\n",
    "        transfer_func = transfer_func_exc #- transfer_func_inh\n",
    "    if dist == 0:\n",
    "        transfer_func = 0\n",
    "    distances.append(dist)\n",
    "    activations.append(transfer_func)\n",
    "    grid[i//RES_X][i%RES_X] = transfer_func\n",
    "\n",
    "fig, ax = plt.subplots(figsize=(8,8))\n",
    "\n",
    "cell_dists_map = ax.imshow(np.array(grid))\n",
    "fig.colorbar(cell_dists_map)\n",
    "fig.savefig(\"inter_neuron_kernel_ex.pdf\")\n",
    "plt.show()"
   ]
  },
  {
   "cell_type": "code",
   "execution_count": null,
   "id": "331ad450-41b7-4346-ab35-0d3dd94a652d",
   "metadata": {},
   "outputs": [],
   "source": []
  },
  {
   "cell_type": "code",
   "execution_count": null,
   "id": "5156479e-fcc7-496e-a223-180dce06e837",
   "metadata": {},
   "outputs": [],
   "source": []
  }
 ],
 "metadata": {
  "kernelspec": {
   "display_name": "Python 3 (ipykernel)",
   "language": "python",
   "name": "python3"
  },
  "language_info": {
   "codemirror_mode": {
    "name": "ipython",
    "version": 3
   },
   "file_extension": ".py",
   "mimetype": "text/x-python",
   "name": "python",
   "nbconvert_exporter": "python",
   "pygments_lexer": "ipython3",
   "version": "3.9.9"
  }
 },
 "nbformat": 4,
 "nbformat_minor": 5
}
