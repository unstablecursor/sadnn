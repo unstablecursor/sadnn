{
 "cells": [
  {
   "cell_type": "code",
   "execution_count": 2,
   "id": "994cd754-7eb2-447a-a3c8-2db7a10b6626",
   "metadata": {},
   "outputs": [],
   "source": [
    "%matplotlib inline\n",
    "import os\n",
    "import cv2\n",
    "import json\n",
    "import math\n",
    "import numpy as np\n",
    "import matplotlib.pyplot as plt\n",
    "import matplotlib.animation as animation\n",
    "\n",
    "from components.AttractorLayer import AttractorLayer\n",
    "from components.RadarLoader import RadarLoader"
   ]
  },
  {
   "cell_type": "code",
   "execution_count": 27,
   "id": "25b2ee14-37ae-46fc-9a53-a8e918aa98d0",
   "metadata": {},
   "outputs": [
    {
     "data": {
      "image/png": "[encoded data removed]",
      "text/plain": [
       "<Figure size 432x288 with 2 Axes>"
      ]
     },
     "metadata": {
      "needs_background": "light"
     },
     "output_type": "display_data"
    }
   ],
   "source": [
    "\n",
    "\n",
    "TAU = 1  # TODO: I don't know whether this is important\n",
    "INTENSITY = 1.0\n",
    "BETA =0.05  # TODO : Check this\n",
    "SIGMA = 2.1# TODO: Check this\n",
    "SHIFT = 0.2 # TODO : Check this\n",
    "CUTOFF_DIST = 15 # TODO : Change this\n",
    "\n",
    "\n",
    "RES_X = 64\n",
    "activations = []\n",
    "distances = []\n",
    "j = RES_X * (RES_X/2-1) + RES_X - RES_X/2\n",
    "grid = np.empty((RES_X,RES_X))\n",
    "for i in range(0,RES_X*RES_X):\n",
    "    dist = np.sqrt(\n",
    "            (i // RES_X - j // RES_X) ** 2 + (i % RES_X - j % RES_X) ** 2\n",
    "        )\n",
    "    if dist > CUTOFF_DIST:\n",
    "        transfer_func = 0\n",
    "    else:\n",
    "        transfer_func = BETA * ( ( INTENSITY *\n",
    "                     np.exp(-dist / (SIGMA ** 2))\n",
    "                ) - SHIFT)\n",
    "    distances.append(dist)\n",
    "    activations.append(transfer_func)\n",
    "    grid[i//RES_X][i%RES_X] = transfer_func\n",
    "\n",
    "fig, ax = plt.subplots()\n",
    "\n",
    "cell_dists_map = ax.imshow(np.array(grid))\n",
    "fig.colorbar(cell_dists_map)\n",
    "plt.show()"
   ]
  },
  {
   "cell_type": "code",
   "execution_count": null,
   "id": "331ad450-41b7-4346-ab35-0d3dd94a652d",
   "metadata": {},
   "outputs": [],
   "source": []
  },
  {
   "cell_type": "code",
   "execution_count": null,
   "id": "5156479e-fcc7-496e-a223-180dce06e837",
   "metadata": {},
   "outputs": [],
   "source": []
  }
 ],
 "metadata": {
  "kernelspec": {
   "display_name": "Python 3 (ipykernel)",
   "language": "python",
   "name": "python3"
  },
  "language_info": {
   "codemirror_mode": {
    "name": "ipython",
    "version": 3
   },
   "file_extension": ".py",
   "mimetype": "text/x-python",
   "name": "python",
   "nbconvert_exporter": "python",
   "pygments_lexer": "ipython3",
   "version": "3.8.2"
  }
 },
 "nbformat": 4,
 "nbformat_minor": 5
}
