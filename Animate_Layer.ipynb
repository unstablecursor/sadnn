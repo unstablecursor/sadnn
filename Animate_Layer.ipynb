{
 "cells": [
  {
   "cell_type": "code",
   "execution_count": 1,
   "id": "4c332d56-9e54-4ece-a557-825827f95576",
   "metadata": {},
   "outputs": [],
   "source": [
    "%matplotlib inline\n",
    "import os\n",
    "import cv2\n",
    "import json\n",
    "import numpy as np\n",
    "import matplotlib.pyplot as plt\n",
    "import matplotlib.animation as animation\n",
    "\n",
    "from components.AttractorLayer import AttractorLayer\n",
    "from components.RadarLoader import RadarLoader\n",
    "\n",
    "seq_name = \"2020-02-28-13-13-43\"\n",
    "%run carrada_utils/scripts/set_path.py 'components/carrada_datasets/'"
   ]
  },
  {
   "cell_type": "code",
   "execution_count": 2,
   "id": "56fd71d0-61e3-4fc0-b6eb-50bfb6e9e0d3",
   "metadata": {},
   "outputs": [],
   "source": [
    "data_loader = RadarLoader(seq_name)\n",
    "data = data_loader.get_range_angle_stream_data(clip_and_normalize=True, resize=(64,64))\n",
    "data_diff_normalized = data_loader.get_range_angle_stream_data_differentiated(clip_and_normalize=True, resize=(64,64))"
   ]
  },
  {
   "cell_type": "code",
   "execution_count": 3,
   "id": "dd5c3095-fd26-4c62-a244-ad7cbea0cad4",
   "metadata": {},
   "outputs": [],
   "source": [
    "TAU = 1  # TODO: I don't know whether this is important\n",
    "INTENSITY =0.8\n",
    "BETA =0.07  # TODO : Check this\n",
    "SIGMA = 2.6 # TODO: Check this\n",
    "SHIFT = 0.2 # TODO : Check this\n",
    "CUTOFF_DIST = 20 # TODO : Change this\n",
    "X_EYE = 10.0\n",
    "\n",
    "\n",
    "K_INHIB = 3.0\n"
   ]
  },
  {
   "cell_type": "code",
   "execution_count": 4,
   "id": "b767f39f-a3aa-4a74-91dd-9aab32621bfe",
   "metadata": {},
   "outputs": [],
   "source": [
    "attr_layer = AttractorLayer(\n",
    "        tau=TAU,\n",
    "        intensity=INTENSITY,\n",
    "        cutoff_dist=CUTOFF_DIST,\n",
    "        sigma=SIGMA,\n",
    "        shift=SHIFT,\n",
    "        beta=BETA,\n",
    "        k=K_INHIB,\n",
    "        clip=True,\n",
    "        x_eye=X_EYE,\n",
    ")\n",
    "\n",
    "attr_layer.set_weights()\n",
    "attr_layer.save_network(file_path=\"components/network_weights/9_net.npy\")\n",
    "\n",
    "#attr_layer.load_network(file_path=\"components/network_weights/with_clip.npy\")"
   ]
  },
  {
   "cell_type": "code",
   "execution_count": 5,
   "id": "8ee5ff45-1f12-4dae-9af7-0026ca8d7dda",
   "metadata": {},
   "outputs": [],
   "source": [
    "neuron_act = []\n",
    "for data_entry in data_diff_normalized:\n",
    "    neuron_act.append(\n",
    "        attr_layer.forward_pass_visualization(\n",
    "            data_entry.flatten(), number_of_passes=1\n",
    "        )[0]\n",
    "    )"
   ]
  },
  {
   "cell_type": "code",
   "execution_count": 6,
   "id": "31bb2f3f-9584-47da-8efc-4c7b00309325",
   "metadata": {},
   "outputs": [],
   "source": [
    "# # First set up the figure, the axis, and the plot element we want to animate\n",
    "# fig = plt.figure()\n",
    "# ax = plt.axes(xlim=(0, 64), ylim=(0, 64))\n",
    "# #line, = ax.plot([], [], lw=2)\n",
    "# im=plt.imshow(np.array(neuron_act[0]),interpolation='none')\n",
    "# # initialization function: plot the background of each frame\n",
    "# def init():\n",
    "#     im.set_data(np.array(neuron_act[0]))\n",
    "#     return [im]\n",
    "\n",
    "# # animation function.  This is called sequentially\n",
    "# def animate(i):\n",
    "#     im.set_array(np.array(neuron_act[i]))\n",
    "#     return [im]\n",
    "\n",
    "# anim = animation.FuncAnimation(fig, animate, init_func=init,\n",
    "#                                frames=200, interval=1, blit=True)\n",
    "\n",
    "# anim.save('basic_animation.gif', fps=10)#, extra_args=['-vcodec', 'libx264'])\n",
    "\n",
    "# #plt.show()"
   ]
  },
  {
   "cell_type": "code",
   "execution_count": 7,
   "id": "6508e844-b915-400c-8d42-b1f8ab80cc0a",
   "metadata": {},
   "outputs": [
    {
     "name": "stderr",
     "output_type": "stream",
     "text": [
      "MovieWriter ffmpeg unavailable; using Pillow instead.\n"
     ]
    },
    {
     "data": {
      "image/png": "[encoded data removed]",
      "text/plain": [
       "<Figure size 432x288 with 3 Axes>"
      ]
     },
     "metadata": {
      "needs_background": "light"
     },
     "output_type": "display_data"
    }
   ],
   "source": [
    "\n",
    "fig, (ax1, ax2, ax3)= plt.subplots(1, 3)\n",
    "\n",
    "cell_act_map = ax1.imshow(np.array(neuron_act[0]), interpolation='none')\n",
    "input_diff_map = ax2.imshow(np.array(data_diff_normalized[0]),interpolation='none')\n",
    "input_map = ax3.imshow(np.array(data[0]), interpolation='none')\n",
    "\n",
    "def init():\n",
    "    cell_act_map.set_data(np.array(neuron_act[0]))\n",
    "    input_diff_map.set_data(np.array(data_diff_normalized[0]))\n",
    "    input_map.set_data(np.array(data[0]))\n",
    "    return [cell_act_map, input_diff_map, input_map]\n",
    "\n",
    "# animation function.  This is called sequentially\n",
    "def animate(i):\n",
    "    arr = neuron_act[i]/np.max(neuron_act[i])\n",
    "    arr[arr < 0.4] = 0\n",
    "    cell_act_map.set_data(np.array((arr)))\n",
    "    input_diff_map.set_data(np.array(data_diff_normalized[i]))\n",
    "    input_map.set_data(np.array(data[i]))\n",
    "    return [cell_act_map, input_diff_map, input_map]\n",
    "\n",
    "\n",
    "anim = animation.FuncAnimation(fig, animate, init_func=init,\n",
    "                               frames=200, interval=1, blit=True)\n",
    "\n",
    "anim.save('animations/9_anim.gif', fps=10)\n",
    "\n",
    "\n",
    "#fig.colorbar(cell_dists_map)\n",
    "\n",
    "#plt.show()"
   ]
  },
  {
   "cell_type": "code",
   "execution_count": null,
   "id": "e0fd5d72-3fff-47cd-8005-1969f3ed2c00",
   "metadata": {},
   "outputs": [],
   "source": []
  },
  {
   "cell_type": "code",
   "execution_count": null,
   "id": "3fa3079a-c6e8-4c7e-825d-e75d4c8be739",
   "metadata": {},
   "outputs": [],
   "source": []
  },
  {
   "cell_type": "code",
   "execution_count": null,
   "id": "0271e0e4-0fae-46cf-8e92-4416e974c171",
   "metadata": {},
   "outputs": [],
   "source": []
  }
 ],
 "metadata": {
  "kernelspec": {
   "display_name": "Python 3 (ipykernel)",
   "language": "python",
   "name": "python3"
  },
  "language_info": {
   "codemirror_mode": {
    "name": "ipython",
    "version": 3
   },
   "file_extension": ".py",
   "mimetype": "text/x-python",
   "name": "python",
   "nbconvert_exporter": "python",
   "pygments_lexer": "ipython3",
   "version": "3.8.2"
  }
 },
 "nbformat": 4,
 "nbformat_minor": 5
}
