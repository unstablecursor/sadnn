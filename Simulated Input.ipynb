{
 "cells": [
  {
   "cell_type": "code",
   "execution_count": 16,
   "id": "994cd754-7eb2-447a-a3c8-2db7a10b6626",
   "metadata": {},
   "outputs": [],
   "source": [
    "%matplotlib inline\n",
    "import os\n",
    "import cv2\n",
    "import json\n",
    "import math\n",
    "import numpy as np\n",
    "import random\n",
    "import matplotlib.pyplot as plt\n",
    "import matplotlib.animation as animation\n",
    "\n",
    "from components.AttractorLayer import AttractorLayer\n",
    "from components.RadarLoader import RadarLoader"
   ]
  },
  {
   "cell_type": "code",
   "execution_count": 17,
   "id": "a6f35da3-64d8-424c-8453-a03e05d1b80d",
   "metadata": {},
   "outputs": [],
   "source": [
    "TAU = 1  # TODO: I don't know whether this is important\n",
    "INTENSITY =1\n",
    "BETA =1  # TODO : Check this\n",
    "SIGMA =1.3 # TODO: Check this\n",
    "SHIFT = 0.0 # TODO : Check this\n",
    "CUTOFF_DIST = 10 # TODO : Change this\n",
    "X_EYE = 10.0\n",
    "Y_EYE = 1.0\n",
    "\n",
    "RES_X = 64"
   ]
  },
  {
   "cell_type": "code",
   "execution_count": 18,
   "id": "d1756bd7-2eef-42de-be56-055d7e1ed053",
   "metadata": {},
   "outputs": [
    {
     "name": "stdout",
     "output_type": "stream",
     "text": [
      "117\n"
     ]
    }
   ],
   "source": [
    "path = []\n",
    "x = 30\n",
    "y = 1\n",
    "while 0 < x < 63 and 0 < y < 63:\n",
    "    \n",
    "    x += random.randint(-1,1)\n",
    "    y += random.randint(0,1)\n",
    "    path.append(x + y*RES_X)\n",
    "    \n",
    "print(len(path))"
   ]
  },
  {
   "cell_type": "code",
   "execution_count": 19,
   "id": "25b2ee14-37ae-46fc-9a53-a8e918aa98d0",
   "metadata": {},
   "outputs": [],
   "source": [
    "datastream = []\n",
    "\n",
    "for point in path:\n",
    "    activations = []\n",
    "    distances = []\n",
    "    j = point\n",
    "    grid = np.empty((RES_X,RES_X))\n",
    "\n",
    "    for i in range(0,RES_X*RES_X):\n",
    "        dist = np.sqrt(\n",
    "                X_EYE * (i // RES_X - j // RES_X) ** 2 + Y_EYE *(i % RES_X - j % RES_X) ** 2\n",
    "            )\n",
    "        if dist > CUTOFF_DIST:\n",
    "            transfer_func = 0\n",
    "        else:\n",
    "            transfer_func = BETA * ( ( INTENSITY *\n",
    "                         np.exp(-dist / (SIGMA ** 2))\n",
    "                    ) - SHIFT)\n",
    "\n",
    "        distances.append(dist)\n",
    "        activations.append(transfer_func)\n",
    "        grid[i//RES_X][i%RES_X] = transfer_func\n",
    "    datastream.append(grid.copy())\n"
   ]
  },
  {
   "cell_type": "code",
   "execution_count": null,
   "id": "48efe8dc-153c-4db4-a1a3-d3c7ee313532",
   "metadata": {},
   "outputs": [],
   "source": []
  },
  {
   "cell_type": "code",
   "execution_count": 21,
   "id": "136178d1-91eb-4eb6-8987-db7c85c8013e",
   "metadata": {},
   "outputs": [
    {
     "name": "stdout",
     "output_type": "stream",
     "text": [
      "117\n"
     ]
    },
    {
     "data": {
      "image/png": "[encoded data removed]",
      "text/plain": [
       "<Figure size 576x576 with 2 Axes>"
      ]
     },
     "metadata": {
      "needs_background": "light"
     },
     "output_type": "display_data"
    }
   ],
   "source": [
    "print(len(datastream))\n",
    "fig, ax = plt.subplots(figsize=(8,8))\n",
    "\n",
    "cell_dists_map = ax.imshow(np.array(datastream[-1]))\n",
    "fig.colorbar(cell_dists_map)\n",
    "fig.savefig(\"inter_neuron.png\")\n",
    "plt.show()\n"
   ]
  },
  {
   "cell_type": "code",
   "execution_count": null,
   "id": "331ad450-41b7-4346-ab35-0d3dd94a652d",
   "metadata": {},
   "outputs": [],
   "source": []
  },
  {
   "cell_type": "code",
   "execution_count": null,
   "id": "5156479e-fcc7-496e-a223-180dce06e837",
   "metadata": {},
   "outputs": [],
   "source": []
  }
 ],
 "metadata": {
  "kernelspec": {
   "display_name": "Python 3 (ipykernel)",
   "language": "python",
   "name": "python3"
  },
  "language_info": {
   "codemirror_mode": {
    "name": "ipython",
    "version": 3
   },
   "file_extension": ".py",
   "mimetype": "text/x-python",
   "name": "python",
   "nbconvert_exporter": "python",
   "pygments_lexer": "ipython3",
   "version": "3.8.2"
  }
 },
 "nbformat": 4,
 "nbformat_minor": 5
}
